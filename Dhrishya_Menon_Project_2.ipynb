{
  "nbformat": 4,
  "nbformat_minor": 0,
  "metadata": {
    "colab": {
      "provenance": []
    },
    "kernelspec": {
      "name": "python3",
      "display_name": "Python 3"
    },
    "language_info": {
      "name": "python"
    }
  },
  "cells": [
    {
      "cell_type": "markdown",
      "source": [
        "# **Project-2**\n",
        "\n",
        "***Project Title:*** Website Scam Predictor\n",
        "\n",
        "***Project Description:*** In this project, you will build a machine learning model to predict whether a web page is legitimate or not based on their features such as number of slash, number of comma, number of underline, etc.\n",
        "\n",
        "***Dataset Details:*** The data set contains over 100077 records of webpages. The dataset has nineteen features (e.g., number of slash, number of comma, number of underline, etc.) and one target variable that indicates whether the web page legitimate or not.\n",
        "\n",
        "length_url: Length of the url\n",
        "\n",
        "num_dots: Number of dot (.) in the url\n",
        "\n",
        "num_questionmark: Number of question mark (?) in the url\n",
        "\n",
        "num_hypens: Number of hypen (-) in the url\n",
        "\n",
        "num_underline: Number of underline (_) in the url\n",
        "\n",
        "num_slash: Number of slash (/) in the url\n",
        "\n",
        "num_equal: Number of equal (=) in the url\n",
        "\n",
        "num_at: Number of at (@) in the url\n",
        "\n",
        "num_and: Number of and (&) in the url\n",
        "\n",
        "num_exclamation: Number of exclamation (!) in the url\n",
        "\n",
        "num_space: Number of space ( ) in the url\n",
        "\n",
        "num_tilde: Number of tilde (~) in the url\n",
        "\n",
        "num_comma: Number of comma (,) in the url\n",
        "\n",
        "num_plus: Number of plus (+) in the url\n",
        "\n",
        "num_asterisk: Number of asterisk (*) in the url\n",
        "\n",
        "num_hastag: Number of hastag (#) in the url\n",
        "\n",
        "num_dollar: Number of dollar ($) in the url\n",
        "\n",
        "num_percent: Number of percent (%) in the url\n",
        "\n",
        "num_redirection: Number of redirections in the url\n",
        "\n",
        "outcome: 1 is Phishing website, 0 is Legitimate website\n",
        "\n",
        "***Datasets Location:*** Canvas -> Modules -> Week 10 -> Datasets -> **\"web.csv\"**.\n",
        "\n",
        "***Tasks:***\n",
        "\n",
        "1) *Data Exploration and Preprocessing:* You will explore the data set, handle missing values, perform feature engineering, and preprocess the data to get it ready for model building.\n",
        "\n",
        "2) *Model Building:* You will train and evaluate several machine learning models on the preprocessed data set.\n",
        "\n",
        "3) *Model Evaluation:* You will evaluate the models' performance using several metrics such as accuracy, precision, recall, F1-score, and ROC curve analysis. You will also compare the models' performance and select the best-performing one.\n",
        "\n",
        "4) *Deployment:* Once you have selected the best-performing model, you will deploy it and make predictions on new, unseen data.\n",
        "\n",
        "This project will give you hands-on experience with supervised classification, data preprocessing, and model evaluation.\n"
      ],
      "metadata": {
        "id": "Et9RhocgW2_n"
      }
    },
    {
      "cell_type": "code",
      "source": [
        "#Importing the necessary libraries\n",
        "import pandas as pd\n",
        "import matplotlib.pyplot as plt\n",
        "\n",
        "#Reading the .csv file\n",
        "web = pd.read_csv(\"web.csv\")"
      ],
      "metadata": {
        "id": "olVETDDCyOYG"
      },
      "execution_count": 2,
      "outputs": []
    },
    {
      "cell_type": "markdown",
      "source": [
        "**Data Exploration and Preprocessing**"
      ],
      "metadata": {
        "id": "GCIgTfgu1b2m"
      }
    },
    {
      "cell_type": "code",
      "source": [
        "#Display the dataset\n",
        "print(web.head())"
      ],
      "metadata": {
        "id": "Hn5Qg0vuyOC5",
        "colab": {
          "base_uri": "https://localhost:8080/"
        },
        "outputId": "8b053b4e-08a0-4c64-de33-2f7699da75c0"
      },
      "execution_count": 3,
      "outputs": [
        {
          "output_type": "stream",
          "name": "stdout",
          "text": [
            "   lentgh_url  num_dots  num_hypens  num_underline  num_slash  \\\n",
            "0          37         3           0              0          0   \n",
            "1          77         1           0              0          0   \n",
            "2         126         4           1              2          0   \n",
            "3          18         2           0              0          0   \n",
            "4          55         2           2              0          0   \n",
            "\n",
            "   num_questionmark  num_equal  num_at  num_and  num_exclamation  num_space  \\\n",
            "0                 0          0       0        0                0          0   \n",
            "1                 0          0       0        0                0          0   \n",
            "2                 1          3       0        2                0          0   \n",
            "3                 0          0       0        0                0          0   \n",
            "4                 0          0       0        0                0          0   \n",
            "\n",
            "   num_tilde  num_comma  num_plus  num_asterisk  num_hastag  num_dollar  \\\n",
            "0          0          0         0             0           0           0   \n",
            "1          0          0         0             0           0           0   \n",
            "2          0          0         0             0           0           0   \n",
            "3          0          0         0             0           0           0   \n",
            "4          0          0         0             0           0           0   \n",
            "\n",
            "   num_percent  num_redirection  outcome  \n",
            "0            0                0        0  \n",
            "1            0                1        1  \n",
            "2            0                1        1  \n",
            "3            0                1        0  \n",
            "4            0                1        0  \n"
          ]
        }
      ]
    },
    {
      "cell_type": "code",
      "source": [
        "#Displaying the datatype, number of non-null values along with memory usage\n",
        "web.info()"
      ],
      "metadata": {
        "id": "wE7skIZZyN1i",
        "colab": {
          "base_uri": "https://localhost:8080/"
        },
        "outputId": "d1e374be-842f-4ccf-f7b5-c9e355e9376d"
      },
      "execution_count": 4,
      "outputs": [
        {
          "output_type": "stream",
          "name": "stdout",
          "text": [
            "<class 'pandas.core.frame.DataFrame'>\n",
            "RangeIndex: 100077 entries, 0 to 100076\n",
            "Data columns (total 20 columns):\n",
            " #   Column            Non-Null Count   Dtype\n",
            "---  ------            --------------   -----\n",
            " 0   lentgh_url        100077 non-null  int64\n",
            " 1   num_dots          100077 non-null  int64\n",
            " 2   num_hypens        100077 non-null  int64\n",
            " 3   num_underline     100077 non-null  int64\n",
            " 4   num_slash         100077 non-null  int64\n",
            " 5   num_questionmark  100077 non-null  int64\n",
            " 6   num_equal         100077 non-null  int64\n",
            " 7   num_at            100077 non-null  int64\n",
            " 8   num_and           100077 non-null  int64\n",
            " 9   num_exclamation   100077 non-null  int64\n",
            " 10  num_space         100077 non-null  int64\n",
            " 11  num_tilde         100077 non-null  int64\n",
            " 12  num_comma         100077 non-null  int64\n",
            " 13  num_plus          100077 non-null  int64\n",
            " 14  num_asterisk      100077 non-null  int64\n",
            " 15  num_hastag        100077 non-null  int64\n",
            " 16  num_dollar        100077 non-null  int64\n",
            " 17  num_percent       100077 non-null  int64\n",
            " 18  num_redirection   100077 non-null  int64\n",
            " 19  outcome           100077 non-null  int64\n",
            "dtypes: int64(20)\n",
            "memory usage: 15.3 MB\n"
          ]
        }
      ]
    },
    {
      "cell_type": "code",
      "source": [
        "#Understanding the statistics of the dataset\n",
        "print(web.describe())"
      ],
      "metadata": {
        "id": "kM-kaQuqyNwC",
        "colab": {
          "base_uri": "https://localhost:8080/"
        },
        "outputId": "d1e82efe-b343-4483-d875-c5f7893c8c1c"
      },
      "execution_count": 5,
      "outputs": [
        {
          "output_type": "stream",
          "name": "stdout",
          "text": [
            "          lentgh_url       num_dots     num_hypens  num_underline  \\\n",
            "count  100077.000000  100077.000000  100077.000000  100077.000000   \n",
            "mean       39.177683       2.224397       0.405188       0.137724   \n",
            "std        47.971847       1.255046       1.285465       0.723995   \n",
            "min         4.000000       1.000000       0.000000       0.000000   \n",
            "25%        18.000000       2.000000       0.000000       0.000000   \n",
            "50%        24.000000       2.000000       0.000000       0.000000   \n",
            "75%        44.000000       2.000000       0.000000       0.000000   \n",
            "max      4165.000000      24.000000      43.000000      21.000000   \n",
            "\n",
            "           num_slash  num_questionmark      num_equal         num_at  \\\n",
            "count  100077.000000     100077.000000  100077.000000  100077.000000   \n",
            "mean        1.135386          0.024391       0.215834       0.022143   \n",
            "std         1.828526          0.167789       0.959802       0.268393   \n",
            "min         0.000000          0.000000       0.000000       0.000000   \n",
            "25%         0.000000          0.000000       0.000000       0.000000   \n",
            "50%         0.000000          0.000000       0.000000       0.000000   \n",
            "75%         2.000000          0.000000       0.000000       0.000000   \n",
            "max        44.000000          9.000000      23.000000      43.000000   \n",
            "\n",
            "             num_and  num_exclamation      num_space      num_tilde  \\\n",
            "count  100077.000000    100077.000000  100077.000000  100077.000000   \n",
            "mean        0.143330         0.002608       0.004876       0.003617   \n",
            "std         0.913656         0.082207       0.144569       0.078500   \n",
            "min         0.000000         0.000000       0.000000       0.000000   \n",
            "25%         0.000000         0.000000       0.000000       0.000000   \n",
            "50%         0.000000         0.000000       0.000000       0.000000   \n",
            "75%         0.000000         0.000000       0.000000       0.000000   \n",
            "max        26.000000        10.000000      18.000000       5.000000   \n",
            "\n",
            "           num_comma       num_plus   num_asterisk     num_hastag  \\\n",
            "count  100077.000000  100077.000000  100077.000000  100077.000000   \n",
            "mean        0.002378       0.002468       0.004097       0.000450   \n",
            "std         0.079558       0.104382       0.284046       0.058028   \n",
            "min         0.000000       0.000000       0.000000       0.000000   \n",
            "25%         0.000000       0.000000       0.000000       0.000000   \n",
            "50%         0.000000       0.000000       0.000000       0.000000   \n",
            "75%         0.000000       0.000000       0.000000       0.000000   \n",
            "max        11.000000      19.000000      60.000000      13.000000   \n",
            "\n",
            "          num_dollar    num_percent  num_redirection        outcome  \n",
            "count  100077.000000  100077.000000    100077.000000  100077.000000  \n",
            "mean        0.001899       0.109286         0.361532       0.363340  \n",
            "std         0.097412       1.695327         0.775492       0.480964  \n",
            "min         0.000000       0.000000        -1.000000       0.000000  \n",
            "25%         0.000000       0.000000         0.000000       0.000000  \n",
            "50%         0.000000       0.000000         0.000000       0.000000  \n",
            "75%         0.000000       0.000000         1.000000       1.000000  \n",
            "max        10.000000     174.000000        17.000000       1.000000  \n"
          ]
        }
      ]
    },
    {
      "cell_type": "code",
      "source": [
        "print(web.shape)"
      ],
      "metadata": {
        "id": "4110NhCeHrqK",
        "colab": {
          "base_uri": "https://localhost:8080/"
        },
        "outputId": "3ddc7c36-dfc6-4509-8ef0-eaf6f9b58fa7"
      },
      "execution_count": 6,
      "outputs": [
        {
          "output_type": "stream",
          "name": "stdout",
          "text": [
            "(100077, 20)\n"
          ]
        }
      ]
    },
    {
      "cell_type": "code",
      "source": [
        "# Check for missing values\n",
        "print(web.isnull().sum())"
      ],
      "metadata": {
        "id": "h_LLhfCsOBL1",
        "colab": {
          "base_uri": "https://localhost:8080/"
        },
        "outputId": "7f155d91-8a56-4255-ebd9-31fd56233415"
      },
      "execution_count": 7,
      "outputs": [
        {
          "output_type": "stream",
          "name": "stdout",
          "text": [
            "lentgh_url          0\n",
            "num_dots            0\n",
            "num_hypens          0\n",
            "num_underline       0\n",
            "num_slash           0\n",
            "num_questionmark    0\n",
            "num_equal           0\n",
            "num_at              0\n",
            "num_and             0\n",
            "num_exclamation     0\n",
            "num_space           0\n",
            "num_tilde           0\n",
            "num_comma           0\n",
            "num_plus            0\n",
            "num_asterisk        0\n",
            "num_hastag          0\n",
            "num_dollar          0\n",
            "num_percent         0\n",
            "num_redirection     0\n",
            "outcome             0\n",
            "dtype: int64\n"
          ]
        }
      ]
    },
    {
      "cell_type": "markdown",
      "source": [
        "There are no missing values present in the dataset as observed above."
      ],
      "metadata": {
        "id": "Fr4ucA7sICNJ"
      }
    },
    {
      "cell_type": "markdown",
      "source": [
        "**Model Building**\n",
        "\n",
        "**Train and Test Data Split**"
      ],
      "metadata": {
        "id": "nISAQ5YRITmp"
      }
    },
    {
      "cell_type": "code",
      "source": [
        "# Split the dataset into features and target variable\n",
        "X = web.drop('outcome', axis=1)\n",
        "y = web['outcome']"
      ],
      "metadata": {
        "id": "QDU0g5K0W-7u"
      },
      "execution_count": 8,
      "outputs": []
    },
    {
      "cell_type": "code",
      "source": [
        "from sklearn.model_selection import train_test_split\n",
        "\n",
        "#Split the dataset into training and test sets\n",
        "X_train, X_test, y_train, y_test = train_test_split(X, y, test_size=0.2, random_state=42)"
      ],
      "metadata": {
        "id": "WmnkQTOvXFjW"
      },
      "execution_count": 9,
      "outputs": []
    },
    {
      "cell_type": "code",
      "source": [
        "#Display the shapes of the resulting sets\n",
        "print(\"Training set shape:\", X_train.shape)\n",
        "print(\"Testing set shape:\", X_test.shape)"
      ],
      "metadata": {
        "id": "fMljoS7MXfF_",
        "colab": {
          "base_uri": "https://localhost:8080/"
        },
        "outputId": "4496712e-4da7-4645-d8d6-f8d3a98d20db"
      },
      "execution_count": 10,
      "outputs": [
        {
          "output_type": "stream",
          "name": "stdout",
          "text": [
            "Training set shape: (80061, 19)\n",
            "Testing set shape: (20016, 19)\n"
          ]
        }
      ]
    },
    {
      "cell_type": "code",
      "source": [
        "#Importing the necessary libraries\n",
        "\n",
        "from sklearn.model_selection import train_test_split, GridSearchCV\n",
        "from sklearn.preprocessing import StandardScaler\n",
        "from sklearn.neighbors import KNeighborsClassifier\n",
        "from sklearn.linear_model import LogisticRegression\n",
        "from sklearn.tree import DecisionTreeClassifier\n",
        "from sklearn.ensemble import RandomForestClassifier\n",
        "from sklearn.svm import SVC\n",
        "from sklearn.naive_bayes import GaussianNB\n",
        "from sklearn.metrics import accuracy_score, precision_score, recall_score, f1_score, roc_curve, roc_auc_score, confusion_matrix"
      ],
      "metadata": {
        "id": "3Yk6bcbZXmhK"
      },
      "execution_count": 11,
      "outputs": []
    },
    {
      "cell_type": "markdown",
      "source": [
        "**Model Evaluation**"
      ],
      "metadata": {
        "id": "SxrNuL3g1teo"
      }
    },
    {
      "cell_type": "markdown",
      "source": [
        "**KNN (K Nearest Neighbors)**"
      ],
      "metadata": {
        "id": "7ffZQ7RpR7a2"
      }
    },
    {
      "cell_type": "code",
      "source": [
        "# Initialize and train the KNN model\n",
        "knn_model = KNeighborsClassifier()\n",
        "knn_model.fit(X_train, y_train)\n",
        "\n",
        "# Predict on the test set\n",
        "knn_y_pred = knn_model.predict(X_test)\n",
        "\n",
        "# Evaluate the evaluation metrics\n",
        "accuracy_knn = accuracy_score(y_test, knn_y_pred)\n",
        "precision_knn = precision_score(y_test, knn_y_pred)\n",
        "recall_knn = recall_score(y_test, knn_y_pred)\n",
        "f1_knn = f1_score(y_test, knn_y_pred)\n",
        "confusion_matrix_knn = confusion_matrix(y_test, knn_y_pred)\n",
        "specificity_knn = confusion_matrix_knn[0, 0] / (confusion_matrix_knn[0, 0] + confusion_matrix_knn[0, 1])\n",
        "roc_auc_knn = roc_auc_score(y_test, knn_y_pred)\n",
        "\n",
        "print(\"K-Nearest Neighbors (KNN):\")\n",
        "print(\"Accuracy:\", accuracy_knn)\n",
        "print(\"Precision:\", precision_knn)\n",
        "print(\"Recall:\", recall_knn)\n",
        "print(\"F1-Score:\", f1_knn)\n",
        "print(\"Confusion matrix:\", confusion_matrix_knn)\n",
        "print(\"Specificity:\", specificity_knn)\n",
        "print(\"ROC AUC Score:\", roc_auc_knn)\n"
      ],
      "metadata": {
        "id": "KRd5zcR5-WNp",
        "colab": {
          "base_uri": "https://localhost:8080/"
        },
        "outputId": "9801739a-3edf-4f15-dffa-fc9182f8ade4"
      },
      "execution_count": 12,
      "outputs": [
        {
          "output_type": "stream",
          "name": "stdout",
          "text": [
            "K-Nearest Neighbors (KNN):\n",
            "Accuracy: 0.8863409272581935\n",
            "Precision: 0.8619204822735754\n",
            "Recall: 0.8205793932768516\n",
            "F1-Score: 0.8407420371018551\n",
            "Confusion matrix: [[11736   962]\n",
            " [ 1313  6005]]\n",
            "Specificity: 0.9242400378012285\n",
            "ROC AUC Score: 0.87240971553904\n"
          ]
        }
      ]
    },
    {
      "cell_type": "markdown",
      "source": [
        "Accuracy of KNN is 88.6%"
      ],
      "metadata": {
        "id": "PYTQwDkzVKqg"
      }
    },
    {
      "cell_type": "markdown",
      "source": [
        "**Logistic Regression**"
      ],
      "metadata": {
        "id": "9kcpo0qTVVe2"
      }
    },
    {
      "cell_type": "code",
      "source": [
        "# Initialize and train the Logistic Regression model\n",
        "logistic_reg_model = LogisticRegression(random_state=42)\n",
        "logistic_reg_model.fit(X_train, y_train)\n",
        "\n",
        "# Predict on the test set\n",
        "lr_y_pred = logistic_reg_model.predict(X_test)\n",
        "\n",
        "# Evaluation metrics\n",
        "accuracy_lr = accuracy_score(y_test, lr_y_pred)\n",
        "precision_lr = precision_score(y_test, lr_y_pred)\n",
        "recall_lr = recall_score(y_test, lr_y_pred)\n",
        "f1_lr = f1_score(y_test, lr_y_pred)\n",
        "confusion_matrix_lr = confusion_matrix(y_test, lr_y_pred)\n",
        "specificity_lr = confusion_matrix_lr[0, 0] / (confusion_matrix_lr[0, 0] + confusion_matrix_lr[0, 1])\n",
        "roc_auc_lr = roc_auc_score(y_test, lr_y_pred)\n",
        "\n",
        "print(\"Accuracy:\", accuracy_lr)\n",
        "print(\"Precision:\", precision_lr)\n",
        "print(\"Recall:\", recall_lr)\n",
        "print(\"F1-Score:\", f1_lr)\n",
        "print(\"Confusion matrix:\", confusion_matrix_lr)\n",
        "print(\"Specificity:\", specificity_lr)\n",
        "print(\"ROC AUC Score:\", roc_auc_lr)\n"
      ],
      "metadata": {
        "id": "6PM_2GDKU2fJ",
        "colab": {
          "base_uri": "https://localhost:8080/"
        },
        "outputId": "f4b1c51a-4804-474f-e2fa-8677d908102e"
      },
      "execution_count": 13,
      "outputs": [
        {
          "output_type": "stream",
          "name": "stdout",
          "text": [
            "Accuracy: 0.8568645083932853\n",
            "Precision: 0.8671063478977741\n",
            "Recall: 0.7186389723968297\n",
            "F1-Score: 0.7859224389150414\n",
            "Confusion matrix: [[11892   806]\n",
            " [ 2059  5259]]\n",
            "Specificity: 0.936525437076705\n",
            "ROC AUC Score: 0.8275822047367672\n"
          ]
        },
        {
          "output_type": "stream",
          "name": "stderr",
          "text": [
            "/usr/local/lib/python3.10/dist-packages/sklearn/linear_model/_logistic.py:458: ConvergenceWarning: lbfgs failed to converge (status=1):\n",
            "STOP: TOTAL NO. of ITERATIONS REACHED LIMIT.\n",
            "\n",
            "Increase the number of iterations (max_iter) or scale the data as shown in:\n",
            "    https://scikit-learn.org/stable/modules/preprocessing.html\n",
            "Please also refer to the documentation for alternative solver options:\n",
            "    https://scikit-learn.org/stable/modules/linear_model.html#logistic-regression\n",
            "  n_iter_i = _check_optimize_result(\n"
          ]
        }
      ]
    },
    {
      "cell_type": "markdown",
      "source": [
        "Accuracy of Logistic Regression is 85.6%"
      ],
      "metadata": {
        "id": "zvyChg_nW-EV"
      }
    },
    {
      "cell_type": "markdown",
      "source": [
        "**Decision Tree**"
      ],
      "metadata": {
        "id": "_tqI-bPDXCog"
      }
    },
    {
      "cell_type": "code",
      "source": [
        "# Initialize and train the Decision Tree model\n",
        "dt_model = DecisionTreeClassifier(random_state=42)\n",
        "dt_model.fit(X_train, y_train)\n",
        "\n",
        "# Predict on the test set\n",
        "dt_y_pred = dt_model.predict(X_test)\n",
        "\n",
        "# Evaluation metrics\n",
        "accuracy_dt = accuracy_score(y_test, dt_y_pred)\n",
        "precision_dt = precision_score(y_test, dt_y_pred)\n",
        "recall_dt = recall_score(y_test, dt_y_pred)\n",
        "f1_dt = f1_score(y_test, dt_y_pred)\n",
        "confusion_matrix_dt = confusion_matrix(y_test, dt_y_pred)\n",
        "specificity_dt = confusion_matrix_dt[0, 0] / (confusion_matrix_dt[0, 0] + confusion_matrix_dt[0, 1])\n",
        "roc_auc_dt = roc_auc_score(y_test, dt_y_pred)\n",
        "\n",
        "print(\"Decision Tree:\")\n",
        "print(\"Accuracy:\", accuracy_dt)\n",
        "print(\"Precision:\", precision_dt)\n",
        "print(\"Recall:\", recall_dt)\n",
        "print(\"F1-Score:\", f1_dt)\n",
        "print(\"Confusion matrix:\", confusion_matrix_dt)\n",
        "print(\"Specificity:\", specificity_dt)\n",
        "print(\"ROC AUC Score:\", roc_auc_dt)\n"
      ],
      "metadata": {
        "id": "nsqQTr1dXJUU",
        "colab": {
          "base_uri": "https://localhost:8080/"
        },
        "outputId": "8a4eca96-1b38-4e06-9ebe-cc96b9247bad"
      },
      "execution_count": 14,
      "outputs": [
        {
          "output_type": "stream",
          "name": "stdout",
          "text": [
            "Decision Tree:\n",
            "Accuracy: 0.8830435651478817\n",
            "Precision: 0.8620689655172413\n",
            "Recall: 0.8096474446570101\n",
            "F1-Score: 0.8350362906067225\n",
            "Confusion matrix: [[11750   948]\n",
            " [ 1393  5925]]\n",
            "Specificity: 0.9253425736336431\n",
            "ROC AUC Score: 0.8674950091453266\n"
          ]
        }
      ]
    },
    {
      "cell_type": "markdown",
      "source": [
        "Accuracy of Decision Tree is 88.3%"
      ],
      "metadata": {
        "id": "GKuZFVFdX-fB"
      }
    },
    {
      "cell_type": "markdown",
      "source": [
        "**Random Forest**"
      ],
      "metadata": {
        "id": "hM-b7MJKYJi3"
      }
    },
    {
      "cell_type": "code",
      "source": [
        "# Initialize and train the Random Forest model\n",
        "rf_model = RandomForestClassifier(random_state=42)\n",
        "rf_model.fit(X_train, y_train)\n",
        "\n",
        "#Predict on the test data\n",
        "rf_y_pred = rf_model.predict(X_test)\n",
        "\n",
        "# Evaluation metrics\n",
        "accuracy_rf = accuracy_score(y_test, rf_y_pred)\n",
        "precision_rf = precision_score(y_test, rf_y_pred)\n",
        "recall_rf = recall_score(y_test, rf_y_pred)\n",
        "f1_rf = f1_score(y_test, rf_y_pred)\n",
        "confusion_matrix_rf = confusion_matrix(y_test, rf_y_pred)\n",
        "specificity_rf = confusion_matrix_rf[0, 0] / (confusion_matrix_rf[0, 0] + confusion_matrix_rf[0, 1])\n",
        "roc_auc_rf = roc_auc_score(y_test, rf_y_pred)\n",
        "\n",
        "print(\"Random Forest:\")\n",
        "print(\"Accuracy:\", accuracy_rf)\n",
        "print(\"Precision:\", precision_rf)\n",
        "print(\"Recall:\", recall_rf)\n",
        "print(\"F1-Score:\", f1_rf)\n",
        "print(\"Confusion matrix:\", confusion_matrix_rf)\n",
        "print(\"Specificity:\", specificity_rf)\n",
        "print(\"ROC AUC Score:\", roc_auc_rf)\n"
      ],
      "metadata": {
        "id": "_VnAFnCBYMLt",
        "colab": {
          "base_uri": "https://localhost:8080/"
        },
        "outputId": "a7fab163-7db7-427a-ec90-39bba81b324a"
      },
      "execution_count": 15,
      "outputs": [
        {
          "output_type": "stream",
          "name": "stdout",
          "text": [
            "Random Forest:\n",
            "Accuracy: 0.8921862509992007\n",
            "Precision: 0.861851332398317\n",
            "Recall: 0.8397103033615742\n",
            "F1-Score: 0.8506367663344406\n",
            "Confusion matrix: [[11713   985]\n",
            " [ 1173  6145]]\n",
            "Specificity: 0.9224287289336903\n",
            "ROC AUC Score: 0.8810695161476323\n"
          ]
        }
      ]
    },
    {
      "cell_type": "markdown",
      "source": [
        "Accuracy of Random Forest is 89.2%"
      ],
      "metadata": {
        "id": "EBC84RouYpFw"
      }
    },
    {
      "cell_type": "markdown",
      "source": [
        "**Naive Bayes**"
      ],
      "metadata": {
        "id": "I6BlgB58Yt7g"
      }
    },
    {
      "cell_type": "code",
      "source": [
        "# Initialize and train the Naive Bayes model\n",
        "nb_model = GaussianNB()\n",
        "nb_model.fit(X_train, y_train)\n",
        "\n",
        "# Predict on the test set\n",
        "nb_y_pred = nb_model.predict(X_test)\n",
        "\n",
        "# Evaluation Metrics\n",
        "accuracy_nb = accuracy_score(y_test, nb_y_pred)\n",
        "precision_nb = precision_score(y_test, nb_y_pred)\n",
        "recall_nb = recall_score(y_test, nb_y_pred)\n",
        "f1_nb = f1_score(y_test, nb_y_pred)\n",
        "confusion_matrix_nb = confusion_matrix(y_test, nb_y_pred)\n",
        "specificity_nb = confusion_matrix_nb[0, 0] / (confusion_matrix_nb[0, 0] + confusion_matrix_nb[0, 1])\n",
        "roc_auc_nb = roc_auc_score(y_test, nb_y_pred)\n",
        "\n",
        "print(\"Naive Bayes:\")\n",
        "print(\"Accuracy:\", accuracy_nb)\n",
        "print(\"Precision:\", precision_nb)\n",
        "print(\"Recall:\", recall_nb)\n",
        "print(\"F1-Score:\", f1_nb)\n",
        "print(\"Confusion matrix:\", confusion_matrix_nb)\n",
        "print(\"Specificity:\", specificity_nb)\n",
        "print(\"ROC AUC Score:\", roc_auc_nb)\n"
      ],
      "metadata": {
        "id": "mdIAe6R6Y0Yx",
        "colab": {
          "base_uri": "https://localhost:8080/"
        },
        "outputId": "a54deb14-c48a-4a9d-b45b-eee8cf91004d"
      },
      "execution_count": 16,
      "outputs": [
        {
          "output_type": "stream",
          "name": "stdout",
          "text": [
            "Naive Bayes:\n",
            "Accuracy: 0.7156274980015987\n",
            "Precision: 0.8864068441064639\n",
            "Recall: 0.25485105220005466\n",
            "F1-Score: 0.395881978348546\n",
            "Confusion matrix: [[12459   239]\n",
            " [ 5453  1865]]\n",
            "Specificity: 0.9811781382894944\n",
            "ROC AUC Score: 0.6180145952447745\n"
          ]
        }
      ]
    },
    {
      "cell_type": "markdown",
      "source": [
        "Accuracy of Naive Bayes is 71.5%. Compared to other models it does not perform well."
      ],
      "metadata": {
        "id": "flayaDHBZbrk"
      }
    },
    {
      "cell_type": "markdown",
      "source": [
        "**SVM (Support Vector Machine)**"
      ],
      "metadata": {
        "id": "Bj74XlMcaJby"
      }
    },
    {
      "cell_type": "code",
      "source": [
        "# Initialize and train the SVM model\n",
        "svm_model = SVC()\n",
        "svm_model.fit(X_train, y_train)\n",
        "\n",
        "# Predict on the test set\n",
        "svm_y_pred = svm_model.predict(X_test)\n",
        "\n",
        "# Evaluation metrics\n",
        "accuracy_svm = accuracy_score(y_test, svm_y_pred)\n",
        "precision_svm = precision_score(y_test, svm_y_pred)\n",
        "recall_svm = recall_score(y_test, svm_y_pred)\n",
        "f1_svm = f1_score(y_test, svm_y_pred)\n",
        "confusion_matrix_svm = confusion_matrix(y_test, svm_y_pred)\n",
        "specificity_svm = confusion_matrix_svm[0, 0] / (confusion_matrix_svm[0, 0] + confusion_matrix_svm[0, 1])\n",
        "roc_auc_svm = roc_auc_score(y_test, svm_y_pred)\n",
        "\n",
        "print(\"Support Vector Machine (SVM):\")\n",
        "print(\"Accuracy:\", accuracy_svm)\n",
        "print(\"Precision:\", precision_svm)\n",
        "print(\"Recall:\", recall_svm)\n",
        "print(\"F1-Score:\", f1_svm)\n",
        "print(\"Confusion matrix:\", confusion_matrix_svm)\n",
        "print(\"Specificity:\", specificity_svm)\n",
        "print(\"ROC AUC Score:\", roc_auc_svm)"
      ],
      "metadata": {
        "id": "XoLzVaTXZmTV",
        "colab": {
          "base_uri": "https://localhost:8080/"
        },
        "outputId": "0697ee8a-900c-4d04-b6b6-1df2e9851d35"
      },
      "execution_count": 17,
      "outputs": [
        {
          "output_type": "stream",
          "name": "stdout",
          "text": [
            "Support Vector Machine (SVM):\n",
            "Accuracy: 0.8668065547561951\n",
            "Precision: 0.8493541604085311\n",
            "Recall: 0.7727521180650451\n",
            "F1-Score: 0.8092444190040068\n",
            "Confusion matrix: [[11695  1003]\n",
            " [ 1663  5655]]\n",
            "Specificity: 0.9210111828634431\n",
            "ROC AUC Score: 0.846881650464244\n"
          ]
        }
      ]
    },
    {
      "cell_type": "markdown",
      "source": [
        "Accuracy of SVM is 86.6%"
      ],
      "metadata": {
        "id": "wqX7ZXzQcLj3"
      }
    },
    {
      "cell_type": "markdown",
      "source": [
        "From the above models, **Random Forest** gives the highest accuracy.\n",
        "\n",
        "Now, I will check the same results using ROC Curve"
      ],
      "metadata": {
        "id": "u8xd-DHzcaQn"
      }
    },
    {
      "cell_type": "code",
      "source": [
        "from sklearn.metrics import roc_curve, roc_auc_score\n",
        "\n",
        "# KNN\n",
        "fpr_knn, tpr_knn, thresholds_knn = roc_curve(y_test, knn_model.predict_proba(X_test)[:, 1])\n",
        "roc_auc_knn = roc_auc_score(y_test, knn_y_pred)\n",
        "\n",
        "# Logistic Regression\n",
        "fpr_logreg, tpr_logreg, thresholds_logreg = roc_curve(y_test, logistic_reg_model.predict_proba(X_test)[:, 1])\n",
        "roc_auc_logreg = roc_auc_score(y_test, lr_y_pred)\n",
        "\n",
        "# Decision Tree\n",
        "fpr_dt, tpr_dt, thresholds_dt = roc_curve(y_test, dt_model.predict_proba(X_test)[:, 1])\n",
        "roc_auc_dt = roc_auc_score(y_test, dt_y_pred)\n",
        "\n",
        "# Random Forest\n",
        "fpr_rf, tpr_rf, thresholds_rf = roc_curve(y_test, rf_model.predict_proba(X_test)[:, 1])\n",
        "roc_auc_rf = roc_auc_score(y_test, rf_y_pred)\n",
        "\n",
        "# Naive Bayes\n",
        "fpr_nb, tpr_nb, thresholds_nb = roc_curve(y_test, nb_model.predict_proba(X_test)[:, 1])\n",
        "roc_auc_nb = roc_auc_score(y_test, nb_y_pred)\n",
        "\n",
        "# SVM\n",
        "fpr_svm, tpr_svm, thresholds_svm = roc_curve(y_test, svm_model.decision_function(X_test))\n",
        "roc_auc_svm = roc_auc_score(y_test, svm_y_pred)\n",
        "\n",
        "# Plot ROC curve for each model\n",
        "plt.figure(figsize=(10, 8))\n",
        "plt.plot(fpr_dt, tpr_dt, label=f\"Decision Tree (AUC = {roc_auc_dt:.2f})\")\n",
        "plt.plot(fpr_rf, tpr_rf, label=f\"Random Forest (AUC = {roc_auc_rf:.2f})\")\n",
        "plt.plot(fpr_nb, tpr_nb, label=f\"Naive Bayes (AUC = {roc_auc_nb:.2f})\")\n",
        "plt.plot(fpr_knn, tpr_knn, label=f\"KNN (AUC = {roc_auc_knn:.2f})\")\n",
        "plt.plot(fpr_logreg, tpr_logreg, label=f\"Logistic Regression (AUC = {roc_auc_logreg:.2f})\")\n",
        "plt.plot(fpr_svm, tpr_svm, label=f\"SVM (AUC = {roc_auc_svm:.2f})\")\n",
        "plt.plot([0, 1], [0, 1], color='red', lw=2, linestyle='--')\n",
        "plt.xlim([0.0, 1.0])\n",
        "plt.ylim([0.0, 1.05])\n",
        "plt.xlabel('False Positive Rate')\n",
        "plt.ylabel('True Positive Rate')\n",
        "plt.title('Receiver Operating Characteristic (ROC) Curve')\n",
        "plt.legend(loc=\"lower right\")\n",
        "plt.show()\n"
      ],
      "metadata": {
        "id": "437fpGwElFhF",
        "colab": {
          "base_uri": "https://localhost:8080/",
          "height": 718
        },
        "outputId": "82dab49f-9308-4139-9b22-a06643e65f7a"
      },
      "execution_count": 19,
      "outputs": [
        {
          "output_type": "display_data",
          "data": {
            "text/plain": [
              "<Figure size 1000x800 with 1 Axes>"
            ],
            "image/png": "[encoded data removed]"
          },
          "metadata": {}
        }
      ]
    },
    {
      "cell_type": "markdown",
      "source": [
        "The ROC Curve shows that the best model is Random Forest model.\n",
        "\n",
        "I will now try performing Feature selection since none of the models showcased good accuracy. The model that performs better is determined by selecting features based on the maximum correlation.  "
      ],
      "metadata": {
        "id": "gACZkHt7zQc5"
      }
    },
    {
      "cell_type": "code",
      "source": [
        "from sklearn.model_selection import GridSearchCV\n",
        "from sklearn.ensemble import RandomForestClassifier\n",
        "from sklearn.metrics import accuracy_score, precision_score, recall_score, f1_score, roc_auc_score, confusion_matrix\n",
        "\n",
        "# Define the parameter grid to search\n",
        "param_grid = {\n",
        "    'n_estimators': [50, 100, 200],\n",
        "    'max_depth': [None, 10, 20],\n",
        "    'min_samples_split': [2, 5, 10],\n",
        "    'min_samples_leaf': [1, 2, 4]\n",
        "}\n",
        "\n",
        "# Initialize the Random Forest model\n",
        "rf_model = RandomForestClassifier(random_state=42)\n",
        "\n",
        "# Initialize GridSearchCV\n",
        "grid_search = GridSearchCV(estimator=rf_model, param_grid=param_grid, cv=5, scoring='accuracy')\n",
        "\n",
        "# Fit the GridSearchCV to the data\n",
        "grid_search.fit(X_train, y_train)\n",
        "\n",
        "# Get the best parameters\n",
        "best_params = grid_search.best_params_\n",
        "print(\"Best Parameters:\", best_params)\n",
        "\n",
        "# Use the best model for predictions\n",
        "best_rf_model = grid_search.best_estimator_\n",
        "rf_pred = best_rf_model.predict(X_test)\n",
        "\n",
        "# Evaluate the Random Forest model with the best parameters\n",
        "accuracy_rf = accuracy_score(y_test, rf_pred)\n",
        "precision_rf = precision_score(y_test, rf_pred)\n",
        "recall_rf = recall_score(y_test, rf_pred)\n",
        "f1_rf = f1_score(y_test, rf_pred)\n",
        "roc_auc_rf = roc_auc_score(y_test, rf_pred)\n",
        "conf_matrix_rf = confusion_matrix(y_test, rf_pred)\n",
        "specificity_rf = conf_matrix_rf[0, 0] / (conf_matrix_rf[0, 0] + conf_matrix_rf[0, 1])\n",
        "\n",
        "print(\"Random Forest (with best parameters from GridSearchCV):\")\n",
        "print(\"Accuracy:\", accuracy_rf)\n",
        "print(\"Precision:\", precision_rf)\n",
        "print(\"Recall:\", recall_rf)\n",
        "print(\"F1-Score:\", f1_rf)\n",
        "print(\"ROC AUC Score:\", roc_auc_rf)\n",
        "print(\"Confusion matrix:\", conf_matrix_rf)\n",
        "print(\"Specificity:\", specificity_rf)\n"
      ],
      "metadata": {
        "colab": {
          "base_uri": "https://localhost:8080/"
        },
        "id": "7kolghF9IEzm",
        "outputId": "7f87179a-9ee6-452b-dbc5-7b96c3e0c5e9"
      },
      "execution_count": 23,
      "outputs": [
        {
          "output_type": "stream",
          "name": "stdout",
          "text": [
            "Best Parameters: {'max_depth': 20, 'min_samples_leaf': 1, 'min_samples_split': 10, 'n_estimators': 200}\n",
            "Random Forest (with best parameters from GridSearchCV):\n",
            "Accuracy: 0.8954836131095124\n",
            "Precision: 0.8599173553719008\n",
            "Recall: 0.8531019404208801\n",
            "F1-Score: 0.856496089998628\n",
            "ROC AUC Score: 0.8865052937259542\n",
            "Confusion matrix: [[11681  1017]\n",
            " [ 1075  6243]]\n",
            "Specificity: 0.9199086470310285\n"
          ]
        }
      ]
    },
    {
      "cell_type": "markdown",
      "source": [
        "As observed the Accuracy with GridSearchCV for Random Forest is 89.54% which is higher compared to the other models. Hence, after comparing all the models, Random Forest comes out to be the best model for the given dataset."
      ],
      "metadata": {
        "id": "Sd4QT7zwQZVx"
      }
    }
  ]
}